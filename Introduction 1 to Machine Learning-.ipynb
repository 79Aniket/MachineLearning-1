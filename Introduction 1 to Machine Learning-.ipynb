{
 "cells": [
  {
   "cell_type": "markdown",
   "id": "b9db196f-32c6-4907-896c-97a200a71d0d",
   "metadata": {},
   "source": [
    "### Q1. Exaplain the following with an example : 1. artificial intelligence, 2.machine learning, 3.deep learning"
   ]
  },
  {
   "cell_type": "markdown",
   "id": "5e761f65-1175-4374-9907-c66101d89aa9",
   "metadata": {},
   "source": [
    "## AI - smart application that can perform its own task without anyhuman intervention, example : delf Drving car , Robots Alexa.\n",
    "## ML -  It provide statstool to analyze visualise predictive modele forecating , example : Amazon.in(product), Netflix(movies).\n",
    "## DP - mimic the barain {multi laynd nw} example : ChatBots, Recommendation system, image recongnition."
   ]
  },
  {
   "cell_type": "code",
   "execution_count": null,
   "id": "4a40b6da-4ea5-4de6-adb2-8db223dbe7f4",
   "metadata": {},
   "outputs": [],
   "source": []
  },
  {
   "cell_type": "markdown",
   "id": "bf018a2f-7641-4380-a2fd-56a8472636a0",
   "metadata": {},
   "source": [
    "## Q2.What is supervised learning? lsit same examples of supervised learning."
   ]
  },
  {
   "cell_type": "markdown",
   "id": "08c638f8-7365-4812-b531-891d0e2aa10c",
   "metadata": {},
   "source": [
    "## Supervised machine learning learns patterns and relationships between input and output data\n",
    "## Example : Email Filtering, Credit Scoring, Voice Recognition"
   ]
  },
  {
   "cell_type": "code",
   "execution_count": null,
   "id": "796a5f9e-67b2-4571-917b-62c74cee52b7",
   "metadata": {},
   "outputs": [],
   "source": []
  },
  {
   "cell_type": "markdown",
   "id": "70257bf4-2bb0-4470-855c-085e1b9ebe39",
   "metadata": {},
   "source": [
    "## Q3: what is unsupervised learning?lsit same examples of supervised learning."
   ]
  },
  {
   "cell_type": "markdown",
   "id": "5566a535-1587-422e-a382-d9a4bcb58ba0",
   "metadata": {},
   "source": [
    "## Unsupervised learning is a type of machine learning technique that uses artificial intelligence algorithms to identify patterns in data sets that are neither classified nor labeled.\n",
    "## Example: Customer and market segmentation"
   ]
  },
  {
   "cell_type": "code",
   "execution_count": null,
   "id": "0688b6be-268b-4ee8-b051-80f6a3f857f5",
   "metadata": {},
   "outputs": [],
   "source": []
  },
  {
   "cell_type": "markdown",
   "id": "1056e882-0d90-4afc-bfc6-0f6c3bc2ae65",
   "metadata": {},
   "source": [
    "## Q4: what is the difference between ai ml dl and ds?"
   ]
  },
  {
   "cell_type": "markdown",
   "id": "e94f05f9-3698-490f-a040-ddeabd800ef2",
   "metadata": {},
   "source": [
    "## AI = Artificial Intelligence uses logic and decision trees. \n",
    "## ML = Machine Learning uses statistical models. \n",
    "## DL = Chatbots, and Voice assistants are popular applications of AI. \n",
    "## DS =  Data Science deals with structured and unstructured data. "
   ]
  },
  {
   "cell_type": "code",
   "execution_count": null,
   "id": "30116d52-43ff-4e0d-a5a3-be9b48c87f00",
   "metadata": {},
   "outputs": [],
   "source": []
  },
  {
   "cell_type": "markdown",
   "id": "9cc977ca-37a0-4682-add3-cb10ab5f6c21",
   "metadata": {},
   "source": [
    "## Q5:what is the main  defference between supervised and unsupervised , and semi-supervised leaning"
   ]
  },
  {
   "cell_type": "markdown",
   "id": "71b787b8-f581-41c4-9501-be6cad179b0f",
   "metadata": {},
   "source": [
    "## Supervised :  Labeled, Learn the relationship between input and output values\n",
    "## Unsupervised learning: Unlabeled, Find patterns in the data\n",
    "## Semi-supervised learning : Labeled and unlabeled, Learn from labeled data, while also using unlabeled data to learn about the overall structure of the data\n"
   ]
  },
  {
   "cell_type": "code",
   "execution_count": null,
   "id": "65ee6de0-eeaf-41a6-a361-c95051f0c8cd",
   "metadata": {},
   "outputs": [],
   "source": []
  },
  {
   "cell_type": "markdown",
   "id": "8ebafba3-3d1e-4e30-83e8-0667402bbde4",
   "metadata": {},
   "source": [
    "## Q8: List down some commonly used supervised learning algorithms and unsupervised learning algorithms"
   ]
  },
  {
   "cell_type": "markdown",
   "id": "95004021-232a-4a26-9fbd-470219a0036e",
   "metadata": {},
   "source": [
    "## The most commonly used Supervised Learning algorithms are decision tree, logistic regression, linear regression, support vector machine.\n",
    "## The most commonly used Unsupervised Learning algorithms are k-means clustering, hierarchical clustering, and apriori algorithm"
   ]
  },
  {
   "cell_type": "code",
   "execution_count": null,
   "id": "78f38aee-7a98-4c9b-9fec-5fa869a9942f",
   "metadata": {},
   "outputs": [],
   "source": []
  },
  {
   "cell_type": "markdown",
   "id": "55b08ab7-9bdc-4dcc-914c-9722653e548b",
   "metadata": {},
   "source": [
    "## Q6: what is train test and validation split? Explain the importance of each term"
   ]
  },
  {
   "cell_type": "markdown",
   "id": "6ae0465f-4c5e-4d7d-adae-9f67b8c5dbcb",
   "metadata": {},
   "source": [
    "## In most supervised machine learning tasks, best practice recommends to split your data into three independent sets: a training set, a testing set, and a validation set.\n",
    "\n",
    "## Training Set: The dataset that we feed our model to learn potential underlying patterns and relationships.\n",
    "\n",
    "## Test Set: The dataset that we use to approximate our model's unbiased accuracy in the wild.\n",
    "\n",
    "## Validation Set: The dataset that we use to understand our model's performance across different model types and hyperparameter choices."
   ]
  },
  {
   "cell_type": "code",
   "execution_count": null,
   "id": "7934d8b2-299c-4ce9-bf2b-bd870965256a",
   "metadata": {},
   "outputs": [],
   "source": []
  }
 ],
 "metadata": {
  "kernelspec": {
   "display_name": "Python 3 (ipykernel)",
   "language": "python",
   "name": "python3"
  },
  "language_info": {
   "codemirror_mode": {
    "name": "ipython",
    "version": 3
   },
   "file_extension": ".py",
   "mimetype": "text/x-python",
   "name": "python",
   "nbconvert_exporter": "python",
   "pygments_lexer": "ipython3",
   "version": "3.10.8"
  }
 },
 "nbformat": 4,
 "nbformat_minor": 5
}
